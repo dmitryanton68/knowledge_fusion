{
 "cells": [
  {
   "cell_type": "markdown",
   "metadata": {},
   "source": [
    "# Pruning of low-active neurons"
   ]
  },
  {
   "cell_type": "code",
   "execution_count": 40,
   "metadata": {},
   "outputs": [],
   "source": [
    "import os\n",
    "os.environ[\"CUDA_DEVICE_ORDER\"]=\"PCI_BUS_ID\"   \n",
    "os.environ[\"CUDA_VISIBLE_DEVICES\"]=\"0\"\n",
    "\n",
    "import os\n",
    "os.environ[\"CUDA_DEVICE_ORDER\"]=\"PCI_BUS_ID\"   \n",
    "os.environ[\"CUDA_VISIBLE_DEVICES\"]=\"0\"\n",
    "\n",
    "import torch\n",
    "from torch import Tensor\n",
    "import torch.nn as nn\n",
    "import torch.cuda as cuda\n",
    "import torch.utils.data as data_utils\n",
    "from torch.utils.data import DataLoader, Dataset\n",
    "from torch.nn.parameter import Parameter\n",
    "\n",
    "try:\n",
    "    import accimage\n",
    "except ImportError:\n",
    "    accimage = None\n",
    "\n",
    "import random\n",
    "import copy\n",
    "\n",
    "import torchvision\n",
    "from torchvision import datasets\n",
    "from torchvision import transforms\n",
    "from torchvision.datasets import ImageFolder\n",
    "\n",
    "from SpykeTorch import snn\n",
    "from SpykeTorch import functional as sf\n",
    "from SpykeTorch import visualization as vis\n",
    "from SpykeTorch import utils\n",
    "\n",
    "import struct\n",
    "import glob\n",
    "import datetime\n",
    "import time\n",
    "import re\n",
    "\n",
    "from sklearn.datasets import fetch_openml\n",
    "from sklearn.metrics import confusion_matrix\n",
    "from scipy.optimize import linear_sum_assignment\n",
    "from collections import Counter \n",
    "\n",
    "import pandas as pd\n",
    "import numpy as np\n",
    "import seaborn as sn\n",
    "import matplotlib.pyplot as plt\n",
    "%matplotlib inline\n",
    "\n",
    "import warnings\n",
    "warnings.filterwarnings(\"ignore\")\n",
    "\n",
    "from PIL import Image"
   ]
  },
  {
   "cell_type": "markdown",
   "metadata": {},
   "source": [
    "## Model"
   ]
  },
  {
   "cell_type": "code",
   "execution_count": 41,
   "metadata": {},
   "outputs": [],
   "source": [
    "def get_k_winners(potentials, kwta = 1, inhibition_radius = 0, spikes = None):\n",
    "\n",
    "    if spikes is None:\n",
    "        spikes = potentials.sign()\n",
    "    # finding earliest potentials for each position in each feature\n",
    "    maximum = (spikes.size(0) - spikes.sum(dim = 0, keepdim=True)).long()\n",
    "    maximum.clamp_(0,spikes.size(0)-1)\n",
    "    values = potentials.gather(dim=0, index=maximum) # gathering values\n",
    "    # propagating the earliest potential through the whole timesteps\n",
    "    truncated_pot = spikes * values\n",
    "    # summation with a high enough value (maximum of potential summation over timesteps) at spike positions\n",
    "    v = truncated_pot.max() * potentials.size(0)\n",
    "    truncated_pot.addcmul_(spikes,v)\n",
    "    # summation over all timesteps\n",
    "    total = truncated_pot.sum(dim=0,keepdim=True)\n",
    "\n",
    "    total.squeeze_(0)\n",
    "    global_pooling_size = tuple(total.size())\n",
    "    winners = []\n",
    "    for k in range(kwta):\n",
    "        max_val,max_idx = total.view(-1).max(0)\n",
    "        if max_val.item() != 0:\n",
    "            # finding the 3d position of the maximum value\n",
    "            max_idx_unraveled = np.unravel_index(max_idx.item(),global_pooling_size)\n",
    "            # adding to the winners list\n",
    "            winners.append(max_idx_unraveled)\n",
    "            # preventing the same feature to be the next winner\n",
    "            total[max_idx_unraveled[0],:,:] = 0\n",
    "            # columnar inhibition (increasing the chance of leanring diverse features)\n",
    "            if inhibition_radius != 0:\n",
    "                rowMin,rowMax = max(0,max_idx_unraveled[-2]-inhibition_radius),min(total.size(-2),max_idx_unraveled[-2]+inhibition_radius+1)\n",
    "                colMin,colMax = max(0,max_idx_unraveled[-1]-inhibition_radius),min(total.size(-1),max_idx_unraveled[-1]+inhibition_radius+1)\n",
    "                total[:,rowMin:rowMax,colMin:colMax] = 0\n",
    "        else:\n",
    "            break\n",
    "    return winners\n"
   ]
  },
  {
   "cell_type": "code",
   "execution_count": 42,
   "metadata": {},
   "outputs": [],
   "source": [
    "# learning rule\n",
    "\n",
    "class STDP(nn.Module):\n",
    "\n",
    "    def __init__(self, conv_layer, learning_rate, use_stabilizer = True, lower_bound = 0, upper_bound = 1):\n",
    "        super(STDP, self).__init__()\n",
    "        self.conv_layer = conv_layer\n",
    "        if isinstance(learning_rate, list):\n",
    "            self.learning_rate = learning_rate\n",
    "        else:\n",
    "            self.learning_rate = [learning_rate] * conv_layer.out_channels\n",
    "        for i in range(conv_layer.out_channels):\n",
    "            self.learning_rate[i] = (Parameter(torch.tensor([self.learning_rate[i][0]])),\n",
    "                            Parameter(torch.tensor([self.learning_rate[i][1]])))\n",
    "            self.register_parameter('ltp_' + str(i), self.learning_rate[i][0])\n",
    "            self.register_parameter('ltd_' + str(i), self.learning_rate[i][1])\n",
    "            self.learning_rate[i][0].requires_grad_(False)\n",
    "            self.learning_rate[i][1].requires_grad_(False)\n",
    "        self.use_stabilizer = use_stabilizer\n",
    "        self.lower_bound = lower_bound\n",
    "        self.upper_bound = upper_bound\n",
    "\n",
    "    def get_pre_post_ordering(self, input_spikes, output_spikes, winners):\n",
    "\n",
    "        # accumulating input and output spikes to get latencies\n",
    "        input_latencies = torch.sum(input_spikes, dim=0)\n",
    "        output_latencies = torch.sum(output_spikes, dim=0)\n",
    "        result = []\n",
    "        for winner in winners:\n",
    "            # generating repeated output tensor with the same size of the receptive field\n",
    "            out_tensor = torch.ones(*self.conv_layer.kernel_size, device=output_latencies.device) * output_latencies[winner]\n",
    "            # slicing input tensor with the same size of the receptive field centered around winner\n",
    "            # since there is no padding, there is no need to shift it to the center\n",
    "            in_tensor = input_latencies[:,winner[-2]:winner[-2]+self.conv_layer.kernel_size[-2],winner[-1]:winner[-1]+self.conv_layer.kernel_size[-1]]\n",
    "            result.append(torch.ge(in_tensor,out_tensor))\n",
    "        return result\n",
    "\n",
    "    # simple STDP rule with weights freezing    \n",
    "    # gets prepost pairings, winners, weights, and learning rates (all shoud be tensors)\n",
    "    def forward(self, input_spikes, potentials, output_spikes, winners=None, \\\n",
    "                freeze_tensor=None, kwta = 1, inhibition_radius = 0):\n",
    "        \n",
    "        if winners is None:\n",
    "            winners = sf.get_k_winners(potentials, kwta, inhibition_radius, output_spikes)\n",
    "        pairings = self.get_pre_post_ordering(input_spikes, output_spikes, winners)\n",
    "\n",
    "        lr = torch.zeros_like(self.conv_layer.weight)\n",
    "        for i in range(len(winners)):\n",
    "            f = winners[i][0]\n",
    "            lr[f] = torch.where(pairings[i], *(self.learning_rate[f]))\n",
    "\n",
    "        # additional script for weights freezing    \n",
    "        if freeze_tensor is None:\n",
    "            \n",
    "            delta_weight = lr * ((self.conv_layer.weight-self.lower_bound) * \\\n",
    "                                (self.upper_bound-self.conv_layer.weight) if self.use_stabilizer else 1)\n",
    "            self.conv_layer.weight += delta_weight\n",
    "            \n",
    "            # segment number\n",
    "            matches = (torch.abs(delta_weight.cpu()) > 0.0).nonzero()\n",
    "            segment_number = -1\n",
    "            if matches[0][0].item() == matches[-1][0].item():\n",
    "                segment_number = matches[0][0].item()\n",
    "            \n",
    "        else:\n",
    "            ones_like_freeze_tensor = torch.full_like(freeze_tensor, 1)\n",
    "            zero_like_freeze_tensor = torch.zeros_like(freeze_tensor)\n",
    "\n",
    "            # condition 'freeze_tensor > 0.01' is stronger version of 'freeze_tensor > 0' for insure\n",
    "            anti_freeze_tensor_byte = torch.where(freeze_tensor > 0.01, zero_like_freeze_tensor, ones_like_freeze_tensor)\n",
    "            self.conv_layer.weight += lr * ((self.conv_layer.weight-self.lower_bound) * \\\n",
    "                                (self.upper_bound-self.conv_layer.weight) if self.use_stabilizer else 1) * \\\n",
    "                                anti_freeze_tensor_byte\n",
    "\n",
    "        self.conv_layer.weight.clamp_(self.lower_bound, self.upper_bound)\n",
    "        \n",
    "        return segment_number\n",
    "\n",
    "    def update_learning_rate(self, feature, ap, an):\n",
    "\n",
    "        self.learning_rate[feature][0][0] = ap\n",
    "        self.learning_rate[feature][1][0] = an\n",
    "\n",
    "    def update_all_learning_rate(self, ap, an):\n",
    "\n",
    "        for feature in range(self.conv_layer.out_channels):\n",
    "            self.learning_rate[feature][0][0] = ap\n",
    "            self.learning_rate[feature][1][0] = an"
   ]
  },
  {
   "cell_type": "code",
   "execution_count": 43,
   "metadata": {},
   "outputs": [],
   "source": [
    "# model\n",
    "\n",
    "class MozafariMNIST2018(nn.Module):\n",
    "    \n",
    "    def __init__(self, dropout=0.5, dropout_procedure = False):\n",
    "        \n",
    "        super(MozafariMNIST2018, self).__init__()\n",
    "\n",
    "        self.conv1 = snn.Convolution(6, 30, 5, 0.8, 0.05)\n",
    "        self.conv1_t = 15\n",
    "        self.k1 = 5\n",
    "        self.r1 = 3\n",
    "\n",
    "        self.conv2 = snn.Convolution(30, 250, 3, 0.8, 0.05)\n",
    "        self.conv2_t = 10\n",
    "        self.k2 = 8\n",
    "        self.r2 = 1\n",
    "\n",
    "        self.conv3 = snn.Convolution(250, 200, 5, 0.8, 0.05)\n",
    "        self.number_of_features = 200\n",
    "        \n",
    "        self.dropout = dropout\n",
    "\n",
    "        self.stdp1 = STDP(self.conv1, (0.004, -0.003))                          \n",
    "        self.stdp2 = STDP(self.conv2, (0.004, -0.003))                          \n",
    "        self.stdp3 = STDP(self.conv3, (0.004, -0.003), False, 0.2, 0.8)         \n",
    "        self.anti_stdp3 = STDP(self.conv3, (-0.004, 0.0005), False, 0.2, 0.8)   \n",
    "        self.max_ap = Parameter(torch.Tensor([0.15]))\n",
    "\n",
    "        self.decision_map = []\n",
    "        for i in range(10):\n",
    "            self.decision_map.extend([i]*20)\n",
    "\n",
    "        self.ctx = {\"input_spikes\":None, \"potentials\":None, \\\n",
    "                    \"output_spikes\":None, \"winners\":None, \\\n",
    "                    \"freeze_tensor\":None}                           # freeze_tensor was added             \n",
    "        self.spk_cnt1 = 0\n",
    "        self.spk_cnt2 = 0\n",
    "        \n",
    "        self.dropout_procedure = dropout_procedure\n",
    "        \n",
    "    def forward(self, input, max_layer, freeze_tensor=None):    # freeze_tensor was added\n",
    "        \n",
    "        input = sf.pad(input.float(), (2,2,2,2), 0)\n",
    "        \n",
    "        if self.training:\n",
    "            pot = self.conv1(input)\n",
    "            spk, pot = sf.fire(pot, self.conv1_t, True)\n",
    "            if max_layer == 1:\n",
    "                self.spk_cnt1 += 1\n",
    "                if self.spk_cnt1 >= 500:\n",
    "                    self.spk_cnt1 = 0\n",
    "                    ap = torch.tensor(self.stdp1.learning_rate[0][0].item(), device=self.stdp1.learning_rate[0][0].device) * 2\n",
    "                    ap = torch.min(ap, self.max_ap)\n",
    "                    an = ap * -0.75\n",
    "                    self.stdp1.update_all_learning_rate(ap.item(), an.item())\n",
    "                pot = sf.pointwise_inhibition(pot)\n",
    "                spk = pot.sign()\n",
    "                winners = sf.get_k_winners(pot, self.k1, self.r1, spk)\n",
    "                self.ctx[\"input_spikes\"] = input\n",
    "                self.ctx[\"potentials\"] = pot\n",
    "                self.ctx[\"output_spikes\"] = spk\n",
    "                self.ctx[\"winners\"] = winners\n",
    "                return spk, pot\n",
    "            \n",
    "            spk_in = sf.pad(sf.pooling(spk, 2, 2), (1,1,1,1))\n",
    "            pot = self.conv2(spk_in)\n",
    "            spk, pot = sf.fire(pot, self.conv2_t, True)\n",
    "            if max_layer == 2:\n",
    "                self.spk_cnt2 += 1\n",
    "                if self.spk_cnt2 >= 500:\n",
    "                    self.spk_cnt2 = 0\n",
    "                    ap = torch.tensor(self.stdp2.learning_rate[0][0].item(), device=self.stdp2.learning_rate[0][0].device) * 2\n",
    "                    ap = torch.min(ap, self.max_ap)\n",
    "                    an = ap * -0.75\n",
    "                    self.stdp2.update_all_learning_rate(ap.item(), an.item())\n",
    "                pot = sf.pointwise_inhibition(pot)\n",
    "                spk = pot.sign()\n",
    "                winners = sf.get_k_winners(pot, self.k2, self.r2, spk)\n",
    "                self.ctx[\"input_spikes\"] = spk_in\n",
    "                self.ctx[\"potentials\"] = pot\n",
    "                self.ctx[\"output_spikes\"] = spk\n",
    "                self.ctx[\"winners\"] = winners\n",
    "                return spk, pot\n",
    "            \n",
    "            spk_in = sf.pad(sf.pooling(spk, 3, 3), (2,2,2,2))\n",
    "            pot = self.conv3(spk_in)           \n",
    "            \n",
    "            if self.dropout_procedure:\n",
    "                dropout = torch.ones(self.number_of_features) * self.dropout\n",
    "                to_be_dropped = torch.bernoulli(dropout).nonzero()   \n",
    "                sf.feature_inhibition_(pot, to_be_dropped)\n",
    "            \n",
    "            spk = sf.fire(pot)\n",
    "            winners = sf.get_k_winners(pot, 1, 0, spk)      \n",
    "            self.ctx[\"input_spikes\"] = spk_in\n",
    "            self.ctx[\"potentials\"] = pot\n",
    "            self.ctx[\"output_spikes\"] = spk\n",
    "            self.ctx[\"winners\"] = winners\n",
    "            self.ctx[\"freeze_tensor\"] = freeze_tensor\n",
    "\n",
    "            output = -1\n",
    "            if len(winners) != 0:\n",
    "                output = self.decision_map[winners[0][0]]\n",
    "            return output\n",
    "        \n",
    "        else:\n",
    "            pot = self.conv1(input)\n",
    "            spk, pot = sf.fire(pot, self.conv1_t, True)\n",
    "            if max_layer == 1:\n",
    "                return spk, pot\n",
    "            \n",
    "            pot = self.conv2(sf.pad(sf.pooling(spk, 2, 2), (1,1,1,1)))\n",
    "            spk, pot = sf.fire(pot, self.conv2_t, True)\n",
    "            if max_layer == 2:\n",
    "                return spk, pot\n",
    "            pot = self.conv3(sf.pad(sf.pooling(spk, 3, 3), (2,2,2,2)))\n",
    "            spk = sf.fire(pot)\n",
    "            \n",
    "            win_segment_number = -1                    # if winners is empty list\n",
    "            winners = sf.get_k_winners(pot, 1, 0, spk)          \n",
    "            \n",
    "            output = -1\n",
    "            \n",
    "            if len(winners) != 0:\n",
    "                output = self.decision_map[winners[0][0]]\n",
    "                win_segment_number = winners[0][0]\n",
    "                \n",
    "            return output, win_segment_number\n",
    "\n",
    "    def stdp(self, layer_idx):\n",
    "        if layer_idx == 1:\n",
    "            self.stdp1(self.ctx[\"input_spikes\"], self.ctx[\"potentials\"], self.ctx[\"output_spikes\"], self.ctx[\"winners\"], self.ctx[\"freeze_tensor\"])\n",
    "        if layer_idx == 2:\n",
    "            self.stdp2(self.ctx[\"input_spikes\"], self.ctx[\"potentials\"], self.ctx[\"output_spikes\"], self.ctx[\"winners\"], self.ctx[\"freeze_tensor\"])\n",
    "\n",
    "    def update_learning_rates(self, stdp_ap, stdp_an, anti_stdp_ap, anti_stdp_an):\n",
    "               \n",
    "        self.stdp3.update_all_learning_rate(stdp_ap, stdp_an)\n",
    "        self.anti_stdp3.update_all_learning_rate(anti_stdp_an, anti_stdp_ap)  \n",
    " \n",
    "    def reward(self):\n",
    "        segment_number = self.stdp3(self.ctx[\"input_spikes\"], self.ctx[\"potentials\"], self.ctx[\"output_spikes\"], self.ctx[\"winners\"], self.ctx[\"freeze_tensor\"])\n",
    "\n",
    "    def punish(self):\n",
    "        segment_number = self.anti_stdp3(self.ctx[\"input_spikes\"], self.ctx[\"potentials\"], self.ctx[\"output_spikes\"], self.ctx[\"winners\"], self.ctx[\"freeze_tensor\"])\n",
    "        "
   ]
  },
  {
   "cell_type": "code",
   "execution_count": 44,
   "metadata": {},
   "outputs": [],
   "source": [
    "# train and test\n",
    "\n",
    "def train_unsupervise(network, data, layer_idx):\n",
    "    network.train()\n",
    "    \n",
    "    for i in range(len(data)):\n",
    "        data_in = data[i]\n",
    "        if use_cuda:\n",
    "            data_in = data_in.cuda()\n",
    "        network(data_in, layer_idx)\n",
    "        network.stdp(layer_idx)\n",
    "\n",
    "def train_rl(network, data, target, freeze_tensor=None):\n",
    "    network.train()\n",
    "    perf = np.array([0,0,0]) # correct, wrong, silence\n",
    "    for i in range(len(data)):\n",
    "        data_in = data[i]\n",
    "        target_in = target[i]\n",
    "        if use_cuda:\n",
    "            data_in = data_in.cuda()\n",
    "            target_in = target_in.cuda()\n",
    "        d = network(data_in, 3, freeze_tensor)    # freeze_tensor was added\n",
    "        segment_number = np.array([0.0,0.0])\n",
    "        if d != -1:\n",
    "            if d == target_in:\n",
    "                perf[0]+=1\n",
    "                segment_number[0] = network.reward() \n",
    "            else:\n",
    "                perf[1]+=1\n",
    "                segment_number[1] = network.punish()  \n",
    "        else:\n",
    "            perf[2]+=1\n",
    "    return perf/len(data), segment_number\n",
    "\n",
    "def test(network, data, target):\n",
    "    network.eval()\n",
    "    perf = np.array([0,0,0]) # correct, wrong, silence\n",
    "    for i in range(len(data)):\n",
    "        data_in = data[i]\n",
    "        target_in = target[i]\n",
    "        if use_cuda:\n",
    "            data_in = data_in.cuda()\n",
    "            target_in = target_in.cuda()\n",
    "        d, neuron = network(data_in, 3)\n",
    "        if d != -1:\n",
    "            if d == target_in:\n",
    "                perf[0]+=1\n",
    "            else:\n",
    "                perf[1]+=1\n",
    "        else:\n",
    "            perf[2]+=1\n",
    "    return perf/len(data), neuron"
   ]
  },
  {
   "cell_type": "code",
   "execution_count": 45,
   "metadata": {},
   "outputs": [],
   "source": [
    "# training the 3rd layer\n",
    "\n",
    "def third_layer(file_name_net, file_name_csv, \n",
    "                adaptive_int, epochs, first_research_epoch, \n",
    "                train_loader, test_loader, test_previous_loader,\n",
    "                train_research_loader, model, parametr_set):  \n",
    "    \n",
    "    '''\n",
    "    file_name_net - name of file for saving state_dict of model\n",
    "    file_name_csv - name of file for saving parameters of model in each epoch\n",
    "    adaptive_int - learning rate parameter\n",
    "    '''\n",
    "\n",
    "    begin_time = time.time()\n",
    "    \n",
    "    adaptive_min=0 \n",
    "    counter = 0\n",
    "    \n",
    "    apr = model.stdp3.learning_rate[0][0].item()\n",
    "    anr = model.stdp3.learning_rate[0][1].item()\n",
    "    app = model.anti_stdp3.learning_rate[0][1].item()\n",
    "    anp = model.anti_stdp3.learning_rate[0][0].item()\n",
    "    \n",
    "    apr_adapt = ((1.0 - 1.0 / 10) * adaptive_int + adaptive_min) * apr\n",
    "    anr_adapt = ((1.0 - 1.0 / 10) * adaptive_int + adaptive_min) * anr\n",
    "    app_adapt = ((1.0 / 10) * adaptive_int + adaptive_min) * app\n",
    "    anp_adapt = ((1.0 / 10) * adaptive_int + adaptive_min) * anp\n",
    "\n",
    "    best_train = np.array([0.0,0.0,0.0,0.0]) # correct, wrong, silence, epoch\n",
    "    best_test = np.array([0.0,0.0,0.0,0.0]) # correct, wrong, silence, epoch\n",
    "    best_test_previous = np.array([0.0,0.0,0.0,0.0]) # correct, wrong, silence, epoch\n",
    "    \n",
    "    reward_segments_list = []\n",
    "    punish_segments_list = []\n",
    "\n",
    "    for epoch in range(epochs):\n",
    "        \n",
    "        seconds_epoch_0 = time.time() \n",
    "        \n",
    "        print('-'*50)\n",
    "        print(\"Epoch #: \", epoch)\n",
    "        perf_train = np.array([0.0,0.0,0.0]) \n",
    "\n",
    "        for data,targets in train_loader:\n",
    "\n",
    "            perf_train_batch, segment_number = train_rl(model, data, targets)\n",
    "\n",
    "            reward_segments_list.append(segment_number[0])\n",
    "            punish_segments_list.append(segment_number[1])\n",
    "\n",
    "            #update adaptive learning rates\n",
    "            apr_adapt = apr * (perf_train_batch[1] * adaptive_int + adaptive_min)\n",
    "            anr_adapt = anr * (perf_train_batch[1] * adaptive_int + adaptive_min)\n",
    "            app_adapt = app * (perf_train_batch[0] * adaptive_int + adaptive_min)\n",
    "            anp_adapt = anp * (perf_train_batch[0] * adaptive_int + adaptive_min)\n",
    "\n",
    "            parametr_set.loc[counter, 'epoch'] = epoch\n",
    "            parametr_set.loc[counter, 'train'] = perf_train_batch[0]\n",
    "\n",
    "            model.update_learning_rates(apr_adapt, anr_adapt, app_adapt, anp_adapt)\n",
    "            perf_train += perf_train_batch\n",
    "\n",
    "        perf_train /= len(train_loader)\n",
    "\n",
    "        if best_train[0] <= perf_train[0]:\n",
    "            best_train = np.append(perf_train, epoch)\n",
    "        print(f\"Current Train: {perf_train[0]*100 :.2f}%\")\n",
    "\n",
    "        for data,targets in test_loader:\n",
    "            perf_test, neuron_test = test(model, data, targets)\n",
    "            parametr_set.loc[counter, 'test'] = perf_test[0]\n",
    "            if best_test[0] <= perf_test[0]:\n",
    "                best_test = np.append(perf_test, epoch)\n",
    "                torch.save(model.state_dict(), file_name_net)\n",
    "            print(f\"Current Test: {perf_test[0]*100 :.2f}%\")\n",
    "\n",
    "        if isinstance(test_previous_loader, DataLoader):\n",
    "            for data,targets in test_previous_loader:\n",
    "                perf_test_previous, neuron_test_previous = test(model, data, targets)\n",
    "                parametr_set.loc[counter, 'test_previous'] = perf_test_previous[0]\n",
    "                if best_test_previous[0] <= perf_test_previous[0]:\n",
    "                    best_test_previous = np.append(perf_test_previous, epoch)\n",
    "                print(f\"Current Test Previous: {perf_test_previous[0]*100 :.2f}%\")\n",
    "        else:\n",
    "            parametr_set.loc[counter, 'test_previous'] = 0\n",
    "\n",
    "        counter += 1\n",
    "\n",
    "        seconds_epoch_1 = time.time()  \n",
    "        print(f'Operational time of epoch #{epoch}: '\n",
    "                  f'{int((seconds_epoch_1 - seconds_epoch_0)//60)} min {int((seconds_epoch_1 - seconds_epoch_0)%60)} sec') \n",
    "\n",
    "    parametr_set.to_csv(file_name_csv)\n",
    "    \n",
    "    end_time = time.time()  \n",
    "    \n",
    "    print('=='*10, 'SUMMARY', '=='*10)\n",
    "    print(f'Total operational time: {(end_time - begin_time)//60} min')\n",
    "    print(f\"        Best Train: {best_train[0]*100 :.2f}% on {best_train[3] :.0f} epoch\")\n",
    "    print(f\"         Best Test: {best_test[0]*100 :.2f}% on {best_test[3] :.0f} epoch\")\n",
    "    print(f\"Best Test Previous: {best_test_previous[0]*100 :.2f}% on {best_test_previous[3] :.0f} epoch\")\n",
    "        \n",
    "    return parametr_set, reward_segments_list, punish_segments_list"
   ]
  },
  {
   "cell_type": "code",
   "execution_count": 46,
   "metadata": {},
   "outputs": [],
   "source": [
    "# for image transformation (see dataset)\n",
    "\n",
    "class S1C1Transform:\n",
    "    \n",
    "    def __init__(self, filter, PIL_type=False, timesteps = 15):\n",
    "        self.PIL_type = PIL_type\n",
    "        self.to_pil_image = transforms.ToPILImage()    \n",
    "        self.to_tensor = transforms.ToTensor()\n",
    "        self.filter = filter\n",
    "        self.temporal_transform = utils.Intensity2Latency(timesteps)\n",
    "        self.cnt = 0\n",
    "        \n",
    "    def __call__(self, image):\n",
    "\n",
    "        if self.PIL_type:\n",
    "            image = self.to_pil_image(image)\n",
    "        self.cnt+=1\n",
    "        image = self.to_tensor(image) * 255\n",
    "        image.unsqueeze_(0)\n",
    "        image = self.filter(image)\n",
    "        image = sf.local_normalization(image, 8)\n",
    "        temporal_image = self.temporal_transform(image)\n",
    "        return temporal_image.sign().byte()"
   ]
  },
  {
   "cell_type": "code",
   "execution_count": 47,
   "metadata": {},
   "outputs": [],
   "source": [
    "# for image transformation (see dataset)\n",
    "\n",
    "kernels = [ utils.DoGKernel(3,3/9,6/9),\n",
    "            utils.DoGKernel(3,6/9,3/9),\n",
    "            utils.DoGKernel(7,7/9,14/9),\n",
    "            utils.DoGKernel(7,14/9,7/9),\n",
    "            utils.DoGKernel(13,13/9,26/9),\n",
    "            utils.DoGKernel(13,26/9,13/9)]\n",
    "\n",
    "filter = utils.Filter(kernels, padding = 6, thresholds = 50)\n",
    "\n",
    "s1c1 = S1C1Transform(filter)\n",
    "s1c1_PIL = S1C1Transform(filter, PIL_type=True)"
   ]
  },
  {
   "cell_type": "code",
   "execution_count": 49,
   "metadata": {},
   "outputs": [],
   "source": [
    "def curve_graph(parametr_set):\n",
    "\n",
    "    plt.subplots(figsize=(15, 5))\n",
    "\n",
    "    plt.plot(parametr_set['epoch'], parametr_set['train']*100, color='cyan', label='train')\n",
    "    plt.plot(parametr_set['epoch'], parametr_set['test']*100, color='blue', marker = 'o', label='test')\n",
    "    plt.plot(parametr_set['epoch'], parametr_set['test_previous']*100, linestyle = ':', color='red', label='test of previous images')\n",
    "    plt.xlabel('epochs', loc='right', fontsize=17)\n",
    "    plt.ylabel('accuracy, %',  loc='top', fontsize=17)\n",
    "    plt.grid()\n",
    "    plt.legend()\n",
    "    plt.show()"
   ]
  },
  {
   "cell_type": "code",
   "execution_count": 50,
   "metadata": {},
   "outputs": [],
   "source": [
    "# for image transformation (see dataset)\n",
    "\n",
    "class CustomTensorDataset(Dataset):\n",
    "    \n",
    "    def __init__(self, tensors, transform=None):\n",
    "        assert all(tensors[0].size(0) == tensor.size(0) for tensor in tensors)\n",
    "        self.tensors = tensors\n",
    "        self.transform = transform\n",
    "\n",
    "    def __getitem__(self, index):\n",
    "        x = self.tensors[0][index]\n",
    "\n",
    "        if self.transform:\n",
    "            x = self.transform(x)\n",
    "\n",
    "        y = self.tensors[1][index]\n",
    "\n",
    "        return x, y\n",
    "\n",
    "    def __len__(self):\n",
    "        return self.tensors[0].size(0)"
   ]
  },
  {
   "cell_type": "code",
   "execution_count": 51,
   "metadata": {},
   "outputs": [],
   "source": [
    "# prediction\n",
    "\n",
    "def pred(network, data, target):\n",
    "    prediction_d = []\n",
    "    target_ = [] \n",
    "    neuron_list = []\n",
    "    network.eval()\n",
    "    \n",
    "    for i in range(len(data)):\n",
    "        \n",
    "        data_in = data[i]\n",
    "        target_in = target[i]\n",
    "        if use_cuda:\n",
    "            data_in = data_in.cuda()\n",
    "            target_in = target_in.cuda()\n",
    "        pred_d, neuron = network(data_in, 3)\n",
    "            \n",
    "        prediction_d.append(pred_d)\n",
    "        target_.append(target_in)\n",
    "        neuron_list.append(neuron)\n",
    "        \n",
    "    return prediction_d, target_, neuron_list"
   ]
  },
  {
   "cell_type": "markdown",
   "metadata": {},
   "source": [
    "## Sets"
   ]
  },
  {
   "cell_type": "markdown",
   "metadata": {},
   "source": [
    "### Set of capital letters\n",
    "24000 train images + 4000 test images"
   ]
  },
  {
   "cell_type": "code",
   "execution_count": 52,
   "metadata": {},
   "outputs": [
    {
     "data": {
      "text/plain": [
       "(torch.Size([24000]), torch.Size([4000]))"
      ]
     },
     "execution_count": 52,
     "metadata": {},
     "output_type": "execute_result"
    }
   ],
   "source": [
    "# set of 10 capital letters from EMNIST\n",
    "path = f'./data/EMNIST_own/capital_letters/'\n",
    "\n",
    "test_letter_labels = torch.load(f'{path}Mozafari_capital_letters_test_labels.pt', map_location=torch.device('cpu'))\n",
    "test_letters = torch.load(f'{path}Mozafari_capital_letters_test_images.pt', map_location=torch.device('cpu'))\n",
    "\n",
    "train_letter_labels = torch.load(f'{path}Mozafari_capital_letters_train_labels.pt', map_location=torch.device('cpu'))\n",
    "train_letters = torch.load(f'{path}Mozafari_capital_letters_train_images.pt', map_location=torch.device('cpu'))\n",
    "\n",
    "# Element permutation\n",
    "\n",
    "train_order_l = torch.randperm(train_letter_labels.shape[0])\n",
    "test_order_l = torch.randperm(test_letter_labels.shape[0])\n",
    "\n",
    "train_letter_labels = train_letter_labels[train_order_l].view(train_letter_labels.size())\n",
    "train_letters = train_letters[train_order_l].view(train_letters.size())\n",
    "\n",
    "test_letter_labels = test_letter_labels[test_order_l].view(test_letter_labels.size())\n",
    "test_letters = test_letters[test_order_l].view(test_letters.size())\n",
    "\n",
    "train_letter_set = CustomTensorDataset(tensors=(train_letters, train_letter_labels), transform=s1c1_PIL)\n",
    "test_letter_set = CustomTensorDataset(tensors=(test_letters, test_letter_labels), transform=s1c1_PIL)\n",
    "\n",
    "train_letter_loader = DataLoader(train_letter_set, batch_size=len(train_letter_set))\n",
    "test_letter_loader = DataLoader(test_letter_set, batch_size=len(test_letter_set))\n",
    "\n",
    "train_letter_labels.size(), test_letter_labels.size()"
   ]
  },
  {
   "cell_type": "markdown",
   "metadata": {},
   "source": [
    "### Set of 10 MNIST digits\n",
    "Reduction the set of 60000 train + 10000 test images to the set of 24000 train + 4000 test images"
   ]
  },
  {
   "cell_type": "code",
   "execution_count": 54,
   "metadata": {},
   "outputs": [],
   "source": [
    "classes = [0, 1, 2, 3, 4, 5, 6, 7, 8, 9]"
   ]
  },
  {
   "cell_type": "code",
   "execution_count": 55,
   "metadata": {},
   "outputs": [
    {
     "data": {
      "text/plain": [
       "(torch.Size([24000]), torch.Size([4000]))"
      ]
     },
     "execution_count": 55,
     "metadata": {},
     "output_type": "execute_result"
    }
   ],
   "source": [
    "# 10 digits by separately classes WITH quantity limitation like at letter set (2400 train + 400 test per character)\n",
    "\n",
    "path = f'./data/MNIST_0_1_2_3_4_5_6_7_8_9/'\n",
    "\n",
    "for i in classes: \n",
    "    globals()[f'train_digit_{i}_images'] = torch.load(f'{path}train_images_{i}.pt', map_location=torch.device('cpu'))[0:2400]\n",
    "    globals()[f'train_digit_{i}_labels'] = torch.load(f'{path}train_labels_{i}.pt', map_location=torch.device('cpu'))[0:2400]\n",
    "    globals()[f'test_digit_{i}_images'] = torch.load(f'{path}test_images_{i}.pt', map_location=torch.device('cpu'))[0:400]\n",
    "    globals()[f'test_digit_{i}_labels'] = torch.load(f'{path}test_labels_{i}.pt', map_location=torch.device('cpu'))[0:400]\n",
    "\n",
    "train_MNIST_labels = globals()[f'train_digit_0_labels']\n",
    "train_MNIST_images = globals()[f'train_digit_0_images']\n",
    "test_MNIST_labels = globals()[f'test_digit_0_labels']\n",
    "test_MNIST_images = globals()[f'test_digit_0_images']                                 \n",
    "\n",
    "for i in range(1, 10):\n",
    "    train_MNIST_labels = torch.cat((train_MNIST_labels, globals()[f'train_digit_{i}_labels']), 0)\n",
    "    train_MNIST_images = torch.cat((train_MNIST_images, globals()[f'train_digit_{i}_images']), 0)\n",
    "\n",
    "    test_MNIST_labels = torch.cat((test_MNIST_labels, globals()[f'test_digit_{i}_labels']), 0)\n",
    "    test_MNIST_images = torch.cat((test_MNIST_images, globals()[f'test_digit_{i}_images']), 0)\n",
    "    \n",
    "# Element permutation\n",
    "\n",
    "train_order = torch.randperm(train_MNIST_labels.shape[0])\n",
    "test_order = torch.randperm(test_MNIST_labels.shape[0])\n",
    "\n",
    "train_MNIST_labels = train_MNIST_labels[train_order].view(train_MNIST_labels.size())\n",
    "train_MNIST_images = train_MNIST_images[train_order].view(train_MNIST_images.size())\n",
    "\n",
    "test_MNIST_labels = test_MNIST_labels[test_order].view(test_MNIST_labels.size())\n",
    "test_MNIST_images = test_MNIST_images[test_order].view(test_MNIST_images.size())\n",
    "\n",
    "train_MNIST_set = CustomTensorDataset(tensors=(train_MNIST_images, train_MNIST_labels), transform=s1c1_PIL)\n",
    "test_MNIST_set = CustomTensorDataset(tensors=(test_MNIST_images, test_MNIST_labels), transform=s1c1_PIL)\n",
    "\n",
    "train_MNIST_loader = DataLoader(train_MNIST_set, batch_size=len(train_MNIST_set))\n",
    "test_MNIST_loader = DataLoader(test_MNIST_set, batch_size=len(test_MNIST_set))\n",
    "\n",
    "train_MNIST_labels.size(), test_MNIST_labels.size()"
   ]
  },
  {
   "cell_type": "markdown",
   "metadata": {},
   "source": [
    "## Models activation and SNN installation"
   ]
  },
  {
   "cell_type": "code",
   "execution_count": 56,
   "metadata": {
    "scrolled": true
   },
   "outputs": [],
   "source": [
    "mozafari = MozafariMNIST2018()\n",
    "mozafari_1 = MozafariMNIST2018()\n",
    "mozafari_mix = MozafariMNIST2018()"
   ]
  },
  {
   "cell_type": "code",
   "execution_count": 57,
   "metadata": {},
   "outputs": [
    {
     "name": "stdout",
     "output_type": "stream",
     "text": [
      "CUDA is available\n"
     ]
    }
   ],
   "source": [
    "use_cuda = True\n",
    "\n",
    "if torch.cuda.is_available():\n",
    "    print(\"CUDA is available\")\n",
    "    device = torch.device(\"cuda\")\n",
    "\n",
    "if use_cuda:\n",
    "    mozafari.cuda() \n",
    "    mozafari_1.cuda() \n",
    "    mozafari_mix.cuda()"
   ]
  },
  {
   "cell_type": "code",
   "execution_count": 58,
   "metadata": {},
   "outputs": [
    {
     "data": {
      "text/plain": [
       "MozafariMNIST2018(\n",
       "  (conv1): Convolution()\n",
       "  (conv2): Convolution()\n",
       "  (conv3): Convolution()\n",
       "  (stdp1): STDP(\n",
       "    (conv_layer): Convolution()\n",
       "  )\n",
       "  (stdp2): STDP(\n",
       "    (conv_layer): Convolution()\n",
       "  )\n",
       "  (stdp3): STDP(\n",
       "    (conv_layer): Convolution()\n",
       "  )\n",
       "  (anti_stdp3): STDP(\n",
       "    (conv_layer): Convolution()\n",
       "  )\n",
       ")"
      ]
     },
     "execution_count": 58,
     "metadata": {},
     "output_type": "execute_result"
    }
   ],
   "source": [
    "mozafari.eval()\n",
    "mozafari_1.eval()\n",
    "mozafari_mix.eval()"
   ]
  },
  {
   "cell_type": "markdown",
   "metadata": {},
   "source": [
    "### Installation SNNs trained on digits and on letters after digits"
   ]
  },
  {
   "cell_type": "code",
   "execution_count": 59,
   "metadata": {},
   "outputs": [
    {
     "data": {
      "text/plain": [
       "<All keys matched successfully>"
      ]
     },
     "execution_count": 59,
     "metadata": {},
     "output_type": "execute_result"
    }
   ],
   "source": [
    "# number of experiment in series\n",
    "exp_number = 0\n",
    "path = f'./Weight_choosing/exp.{exp_number}/'\n",
    "\n",
    "# digits\n",
    "# file \"saved_24000_digits_0.net\" is the result \n",
    "# of the file \"0_Initial_training_on_digits.ipynb\"\n",
    "mozafari.load_state_dict(torch.load(f\"{path}saved_24000_digits_{exp_number}.net\"))\n",
    "\n",
    "# letters after digits\n",
    "# file \"saved_letters_after_digits_total_0.net\" is the result \n",
    "# of the file \"1_Training_on_letters_after_digits.ipynb\"\n",
    "mozafari_1.load_state_dict(torch.load(f\"{path}saved_letters_after_digits_total_{exp_number}.net\"))\n",
    "\n",
    "# mix_net\n",
    "# file \"saved_24000_digits_0.net\" is the result \n",
    "# of the file \"0_Initial_training_on_digits.ipynb\"\n",
    "mozafari_mix.load_state_dict(torch.load(f\"{path}saved_24000_digits_{exp_number}.net\"))"
   ]
  },
  {
   "cell_type": "code",
   "execution_count": 60,
   "metadata": {},
   "outputs": [],
   "source": [
    "third_layer_digit = mozafari.conv3.weight.clone().detach()\n",
    "third_layer_letter = mozafari_1.conv3.weight.clone().detach()"
   ]
  },
  {
   "cell_type": "markdown",
   "metadata": {},
   "source": [
    "## Selection of 3rd layer weights"
   ]
  },
  {
   "cell_type": "markdown",
   "metadata": {},
   "source": [
    "### From _'digit'_ neurons "
   ]
  },
  {
   "cell_type": "code",
   "execution_count": 61,
   "metadata": {},
   "outputs": [],
   "source": [
    "for data_d, target_d in test_MNIST_loader:\n",
    "    prediction_digits, target_digits, neuron_digits = pred(mozafari, data_d.to(\"cuda\"), target_d.to(\"cuda\"))"
   ]
  },
  {
   "cell_type": "code",
   "execution_count": 62,
   "metadata": {},
   "outputs": [],
   "source": [
    "active_neuron_digit = torch.zeros(10, 20)*0\n",
    "\n",
    "c = Counter(np.sort(neuron_digits))  # neurons activity\n",
    "\n",
    "for num in range(10):\n",
    "    for i in range(20):\n",
    "        active_neuron_digit[num][i] = c[num*20+i]"
   ]
  },
  {
   "cell_type": "code",
   "execution_count": 65,
   "metadata": {},
   "outputs": [],
   "source": [
    "# indexes of 10 most active neurons in order of active values descending (in class's frames)\n",
    "\n",
    "idx_10_active_neuron_digit = torch.zeros(10, 10)*0\n",
    "val_10_active_neuron_digit = torch.zeros(10, 10)*0\n",
    "\n",
    "for i in range(10):\n",
    "    idx_10_active_neuron_digit[i] = (active_neuron_digit[i].sort(descending=True)[1]+20*i)[0:10]\n",
    "    val_10_active_neuron_digit[i] = (active_neuron_digit[i].sort(descending=True)[0])[0:10]"
   ]
  },
  {
   "cell_type": "code",
   "execution_count": 70,
   "metadata": {},
   "outputs": [
    {
     "name": "stdout",
     "output_type": "stream",
     "text": [
      "Activity fraction of 50% most active neurons (digits): 86.7%\n"
     ]
    }
   ],
   "source": [
    "print(f'Activity fraction of 50% most active neurons (digits): {val_10_active_neuron_digit.sum().item()/4000*100 :.1f}%')"
   ]
  },
  {
   "cell_type": "markdown",
   "metadata": {},
   "source": [
    "### From _'letter'_ neurons"
   ]
  },
  {
   "cell_type": "code",
   "execution_count": 71,
   "metadata": {},
   "outputs": [],
   "source": [
    "for data_l, target_l in test_letter_loader:\n",
    "    prediction_letters, target_letters, neuron_letters = pred(mozafari_1, data_l.to(\"cuda\"), target_l.to(\"cuda\"))"
   ]
  },
  {
   "cell_type": "code",
   "execution_count": 72,
   "metadata": {},
   "outputs": [],
   "source": [
    "active_neuron_letter = torch.zeros(10, 20)*0\n",
    "\n",
    "c = Counter(np.sort(neuron_letters))\n",
    "\n",
    "for num in range(10):\n",
    "    for i in range(20):\n",
    "        active_neuron_letter[num][i] = c[num*20+i]"
   ]
  },
  {
   "cell_type": "code",
   "execution_count": 73,
   "metadata": {},
   "outputs": [],
   "source": [
    "# indexes of 10 most active neurons in order of active values descending (in class's frames)\n",
    "\n",
    "idx_10_active_neuron_letter = torch.zeros(10, 10)*0\n",
    "val_10_active_neuron_letter = torch.zeros(10, 10)*0\n",
    "\n",
    "for i in range(10):\n",
    "    idx_10_active_neuron_letter[i] = (active_neuron_letter[i].sort(descending=True)[1]+20*i)[0:10]\n",
    "    val_10_active_neuron_letter[i] = (active_neuron_letter[i].sort(descending=True)[0])[0:10]"
   ]
  },
  {
   "cell_type": "code",
   "execution_count": 74,
   "metadata": {},
   "outputs": [
    {
     "name": "stdout",
     "output_type": "stream",
     "text": [
      "Activity fraction of 50% most active neurons (letters): 79.5%\n"
     ]
    }
   ],
   "source": [
    "print(f'Activity fraction of 50% most active neurons (letters): {val_10_active_neuron_letter.sum().item()/4000*100 :.1f}%')"
   ]
  },
  {
   "cell_type": "markdown",
   "metadata": {},
   "source": [
    "## Filling the 3rd layer of _mix_ model with the selected weights"
   ]
  },
  {
   "cell_type": "code",
   "execution_count": 28,
   "metadata": {},
   "outputs": [],
   "source": [
    "third_layer_set = torch.zeros_like(third_layer_digit)\n",
    "\n",
    "decile = 0\n",
    "for i in range(10):   \n",
    "    for order in [1, 2]:\n",
    "        for j in range(10):\n",
    "            if order%2 != 0:\n",
    "                third_layer_set[decile*10+j] = third_layer_digit[int(idx_10_active_neuron_digit[i][j].item())]\n",
    "            else:\n",
    "                third_layer_set[decile*10+j] = third_layer_letter[int(idx_10_active_neuron_letter[i][j].item())]\n",
    "        decile += 1"
   ]
  },
  {
   "cell_type": "code",
   "execution_count": 29,
   "metadata": {},
   "outputs": [],
   "source": [
    "dim_0, dim_1, dim_2, dim_3 = tuple(third_layer_set.size())   \n",
    "\n",
    "for i in range(dim_0):\n",
    "    for j in range(dim_1):\n",
    "        for k in range(dim_2):\n",
    "            for m in range(dim_3):\n",
    "                mozafari_mix.conv3.weight[i][j][k][m].fill_(third_layer_set[i][j][k][m].item())"
   ]
  },
  {
   "cell_type": "markdown",
   "metadata": {},
   "source": [
    "## Prediction of digits by _mix_ model"
   ]
  },
  {
   "cell_type": "code",
   "execution_count": 30,
   "metadata": {},
   "outputs": [],
   "source": [
    "for data_d, target_d in test_MNIST_loader:\n",
    "    prediction_digits, target_digits, neuron_digits = pred(mozafari_mix, data_d.to(\"cuda\"), target_d.to(\"cuda\"))"
   ]
  },
  {
   "cell_type": "code",
   "execution_count": 31,
   "metadata": {},
   "outputs": [],
   "source": [
    "weight_value_sum_mix_d = []\n",
    "for i in range(200):\n",
    "    weight_value_sum_mix_d.append(mozafari_mix.conv3.weight[i].sum().item())"
   ]
  },
  {
   "cell_type": "code",
   "execution_count": 32,
   "metadata": {},
   "outputs": [],
   "source": [
    "active_neuron_mix_d = torch.zeros(10, 20)*0\n",
    "\n",
    "c = Counter(np.sort(neuron_digits))\n",
    "\n",
    "for num in range(10):\n",
    "    for i in range(20):\n",
    "        active_neuron_mix_d[num][i] = c[num*20+i]"
   ]
  },
  {
   "cell_type": "code",
   "execution_count": 33,
   "metadata": {
    "scrolled": false
   },
   "outputs": [
    {
     "data": {
      "image/png": "[encoded data removed]",
      "text/plain": [
       "<Figure size 1080x720 with 1 Axes>"
      ]
     },
     "metadata": {
      "needs_background": "light"
     },
     "output_type": "display_data"
    }
   ],
   "source": [
    "plt.figure(figsize=(15, 10))\n",
    "plt.scatter(weight_value_sum_mix_d, active_neuron_mix_d.flatten().tolist());\n",
    "plt.grid()"
   ]
  },
  {
   "cell_type": "code",
   "execution_count": 34,
   "metadata": {},
   "outputs": [
    {
     "name": "stdout",
     "output_type": "stream",
     "text": [
      "Precision of digits recognition = 90.85%\n"
     ]
    },
    {
     "data": {
      "image/png": "[encoded data removed]",
      "text/plain": [
       "<Figure size 720x720 with 2 Axes>"
      ]
     },
     "metadata": {
      "needs_background": "light"
     },
     "output_type": "display_data"
    }
   ],
   "source": [
    "distribution_of_prediction_digits = pd.DataFrame(list(zip(np.arange(len(prediction_digits)), prediction_digits, target_digits)),\n",
    "                                                               columns=['item', 'prediction', 'target'])   \n",
    "\n",
    "distribution_of_prediction_digits_groups = distribution_of_prediction_digits.groupby('prediction').groups\n",
    "\n",
    "target_list = distribution_of_prediction_digits['target'].to_list()\n",
    "prediction_list = distribution_of_prediction_digits['prediction'].to_list()\n",
    "for i in range(len(data_d)):\n",
    "    target_list[i] = target_list[i].item()\n",
    "    \n",
    "precision = 0\n",
    "for i in range(len(distribution_of_prediction_digits.index)):\n",
    "    if distribution_of_prediction_digits['prediction'].iloc[i] == distribution_of_prediction_digits['target'].iloc[i]: \n",
    "        precision += 1\n",
    "\n",
    "print(f'Precision of digits recognition = {precision/len(distribution_of_prediction_digits.index)*100 :.2f}%')\n",
    "\n",
    "CM = confusion_matrix(target_list, prediction_list)\n",
    "\n",
    "CM_normalized = CM.astype('float') / CM.sum(axis=1)[:, np.newaxis]*100\n",
    "plt.subplots(figsize=(10, 10))\n",
    "sn.heatmap(CM_normalized, annot=True, linewidths=.5, cmap='coolwarm', fmt='.0f', square=True);\n",
    "plt.ylabel('True label');\n",
    "plt.xlabel('Predicted label');"
   ]
  },
  {
   "cell_type": "markdown",
   "metadata": {},
   "source": [
    "## Prediction of letters by _mix_ model"
   ]
  },
  {
   "cell_type": "code",
   "execution_count": 35,
   "metadata": {},
   "outputs": [],
   "source": [
    "for data_l, target_l in test_letter_loader:\n",
    "    prediction_letters, target_letters, neuron_letters = pred(mozafari_mix, data_l.to(\"cuda\"), target_l.to(\"cuda\"))"
   ]
  },
  {
   "cell_type": "code",
   "execution_count": 36,
   "metadata": {},
   "outputs": [],
   "source": [
    "weight_value_sum_mix_l = []\n",
    "for i in range(200):\n",
    "    weight_value_sum_mix_l.append(mozafari_mix.conv3.weight[i].sum().item())"
   ]
  },
  {
   "cell_type": "code",
   "execution_count": 37,
   "metadata": {},
   "outputs": [],
   "source": [
    "active_neuron_mix_l = torch.zeros(10, 20)*0\n",
    "\n",
    "c = Counter(np.sort(neuron_letters))\n",
    "\n",
    "for num in range(10):\n",
    "    for i in range(20):\n",
    "        active_neuron_mix_l[num][i] = c[num*20+i]"
   ]
  },
  {
   "cell_type": "code",
   "execution_count": 38,
   "metadata": {},
   "outputs": [
    {
     "data": {
      "image/png": "[encoded data removed]",
      "text/plain": [
       "<Figure size 1080x720 with 1 Axes>"
      ]
     },
     "metadata": {
      "needs_background": "light"
     },
     "output_type": "display_data"
    }
   ],
   "source": [
    "plt.figure(figsize=(15, 10))\n",
    "plt.scatter(weight_value_sum_mix_l, active_neuron_mix_l.flatten().tolist());\n",
    "plt.grid()"
   ]
  },
  {
   "cell_type": "code",
   "execution_count": 39,
   "metadata": {},
   "outputs": [
    {
     "name": "stdout",
     "output_type": "stream",
     "text": [
      "Precision of letters recognition = 79.07%\n"
     ]
    },
    {
     "data": {
      "image/png": "[encoded data removed]",
      "text/plain": [
       "<Figure size 720x720 with 2 Axes>"
      ]
     },
     "metadata": {
      "needs_background": "light"
     },
     "output_type": "display_data"
    }
   ],
   "source": [
    "distribution_of_prediction_letters = pd.DataFrame(list(zip(np.arange(len(prediction_letters)), prediction_letters, target_letters)),\n",
    "                                                               columns=['item', 'prediction', 'target'])   \n",
    "\n",
    "distribution_of_prediction_letters_groups = distribution_of_prediction_letters.groupby('prediction').groups\n",
    "\n",
    "target_list = distribution_of_prediction_letters['target'].to_list()\n",
    "prediction_list = distribution_of_prediction_letters['prediction'].to_list()\n",
    "for i in range(len(data_l)):\n",
    "    target_list[i] = target_list[i].item()\n",
    "    \n",
    "precision = 0\n",
    "for i in range(len(distribution_of_prediction_letters.index)):\n",
    "    if distribution_of_prediction_letters['prediction'].iloc[i] == distribution_of_prediction_letters['target'].iloc[i]: \n",
    "        precision += 1\n",
    "\n",
    "print(f'Precision of letters recognition = {precision/len(distribution_of_prediction_letters.index)*100 :.2f}%')\n",
    "\n",
    "CM = confusion_matrix(target_list, prediction_list)\n",
    "\n",
    "CM_normalized = CM.astype('float') / CM.sum(axis=1)[:, np.newaxis]*100\n",
    "plt.subplots(figsize=(10, 10))\n",
    "sn.heatmap(CM_normalized, annot=True, linewidths=.5, cmap='coolwarm', fmt='.0f', square=True);\n",
    "plt.ylabel('True label');\n",
    "plt.xlabel('Predicted label');"
   ]
  }
 ],
 "metadata": {
  "kernelspec": {
   "display_name": "Python 3",
   "language": "python",
   "name": "python3"
  },
  "language_info": {
   "codemirror_mode": {
    "name": "ipython",
    "version": 3
   },
   "file_extension": ".py",
   "mimetype": "text/x-python",
   "name": "python",
   "nbconvert_exporter": "python",
   "pygments_lexer": "ipython3",
   "version": "3.8.8"
  }
 },
 "nbformat": 4,
 "nbformat_minor": 4
}
