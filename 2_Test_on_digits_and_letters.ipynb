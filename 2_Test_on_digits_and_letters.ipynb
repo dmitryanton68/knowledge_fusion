{
 "cells": [
  {
   "cell_type": "markdown",
   "metadata": {},
   "source": [
    "# 2. Test of models"
   ]
  },
  {
   "cell_type": "code",
   "execution_count": 1,
   "metadata": {},
   "outputs": [],
   "source": [
    "import os\n",
    "os.environ[\"CUDA_DEVICE_ORDER\"]=\"PCI_BUS_ID\"   \n",
    "os.environ[\"CUDA_VISIBLE_DEVICES\"]=\"0\"\n",
    "\n",
    "import os\n",
    "os.environ[\"CUDA_DEVICE_ORDER\"]=\"PCI_BUS_ID\"   \n",
    "os.environ[\"CUDA_VISIBLE_DEVICES\"]=\"0\"\n",
    "\n",
    "import torch\n",
    "from torch import Tensor\n",
    "import torch.nn as nn\n",
    "import torch.cuda as cuda\n",
    "import torch.utils.data as data_utils\n",
    "from torch.utils.data import DataLoader, Dataset\n",
    "from torch.nn.parameter import Parameter\n",
    "\n",
    "try:\n",
    "    import accimage\n",
    "except ImportError:\n",
    "    accimage = None\n",
    "\n",
    "import random\n",
    "import copy\n",
    "import time\n",
    "\n",
    "import torchvision\n",
    "from torchvision import datasets\n",
    "from torchvision import transforms\n",
    "from torchvision.datasets import ImageFolder\n",
    "\n",
    "from SpykeTorch import snn\n",
    "from SpykeTorch import functional as sf\n",
    "from SpykeTorch import visualization as vis\n",
    "from SpykeTorch import utils\n",
    "\n",
    "import struct\n",
    "import glob\n",
    "import datetime\n",
    "import re\n",
    "\n",
    "from sklearn.datasets import fetch_openml\n",
    "from sklearn.metrics import confusion_matrix\n",
    "\n",
    "import pandas as pd\n",
    "import numpy as np\n",
    "import seaborn as sn\n",
    "import matplotlib.pyplot as plt\n",
    "%matplotlib inline\n",
    "\n",
    "import warnings\n",
    "warnings.filterwarnings(\"ignore\")\n",
    "\n",
    "from PIL import Image"
   ]
  },
  {
   "cell_type": "markdown",
   "metadata": {},
   "source": [
    "## Model"
   ]
  },
  {
   "cell_type": "code",
   "execution_count": 2,
   "metadata": {},
   "outputs": [],
   "source": [
    "def get_k_winners(potentials, kwta=1, inhibition_radius=0, spikes=None):\n",
    "\n",
    "    if spikes is None:\n",
    "        spikes = potentials.sign()\n",
    "        \n",
    "    # finding earliest potentials for each position in each feature\n",
    "    maximum = (spikes.size(0) - spikes.sum(dim = 0, keepdim=True)).long()    \n",
    "    maximum.clamp_(0, spikes.size(0) - 1)\n",
    "    values = potentials.gather(dim=0, index=maximum) # gathering values\n",
    "    \n",
    "    # propagating the earliest potential through the whole timesteps\n",
    "    truncated_pot = spikes * values\n",
    "    \n",
    "    # summation with a high enough value (maximum of potential summation over timesteps) at spike positions\n",
    "    v = truncated_pot.max() * potentials.size(0)\n",
    "    truncated_pot.addcmul_(spikes,v)\n",
    "\n",
    "    # summation over all timesteps\n",
    "    total = truncated_pot.sum(dim=0,keepdim=True)\n",
    "\n",
    "    total.squeeze_(0)\n",
    "    global_pooling_size = tuple(total.size())\n",
    "    winners = []\n",
    "    \n",
    "    for k in range(kwta):\n",
    "        max_val,max_idx = total.view(-1).max(0)\n",
    "        \n",
    "        if max_val.item() != 0:\n",
    "          \n",
    "            # finding the 3d position of the maximum value\n",
    "            max_idx_unraveled = np.unravel_index(max_idx.item(), global_pooling_size)\n",
    "            \n",
    "            # adding to the winners list\n",
    "            winners.append(max_idx_unraveled)\n",
    "            \n",
    "            # preventing the same feature to be the next winner\n",
    "            total[max_idx_unraveled[0],:,:] = 0\n",
    "            \n",
    "            # columnar inhibition (increasing the chance of leanring diverse features)\n",
    "            if inhibition_radius != 0:\n",
    "                rowMin,rowMax = max(0,max_idx_unraveled[-2]-inhibition_radius),min(total.size(-2),max_idx_unraveled[-2]+inhibition_radius+1)\n",
    "                colMin,colMax = max(0,max_idx_unraveled[-1]-inhibition_radius),min(total.size(-1),max_idx_unraveled[-1]+inhibition_radius+1)\n",
    "                total[:,rowMin:rowMax,colMin:colMax] = 0\n",
    "        else:\n",
    "            break\n",
    "            \n",
    "    return max_val.item(), max_idx_unraveled[0]"
   ]
  },
  {
   "cell_type": "code",
   "execution_count": 3,
   "metadata": {},
   "outputs": [],
   "source": [
    "# model\n",
    "\n",
    "class MozafariMNIST2018(nn.Module):\n",
    "    \n",
    "    def __init__(self):\n",
    "        \n",
    "        super(MozafariMNIST2018, self).__init__()\n",
    "\n",
    "        self.conv1 = snn.Convolution(6, 30, 5, 0.8, 0.05)\n",
    "        self.conv1_t = 15\n",
    "        self.k1 = 5\n",
    "        self.r1 = 3\n",
    "\n",
    "        self.conv2 = snn.Convolution(30, 250, 3, 0.8, 0.05)\n",
    "        self.conv2_t = 10\n",
    "        self.k2 = 8\n",
    "        self.r2 = 1\n",
    "\n",
    "        self.conv3 = snn.Convolution(250, 200, 5, 0.8, 0.05)\n",
    "\n",
    "        self.stdp1 = snn.STDP(self.conv1, (0.004, -0.003))\n",
    "        self.stdp2 = snn.STDP(self.conv2, (0.004, -0.003))\n",
    "        self.stdp3 = snn.STDP(self.conv3, (0.004, -0.003), False, 0.2, 0.8)\n",
    "        self.anti_stdp3 = snn.STDP(self.conv3, (-0.004, 0.0005), False, 0.2, 0.8)\n",
    "        self.max_ap = Parameter(torch.Tensor([0.15]))\n",
    "\n",
    "        self.decision_map = []\n",
    "        for i in range(10):\n",
    "            self.decision_map.extend([i]*20)\n",
    "\n",
    "        self.ctx = {\"input_spikes\":None, \"potentials\":None, \"output_spikes\":None, \"winners\":None}\n",
    "        self.spk_cnt1 = 0\n",
    "        self.spk_cnt2 = 0\n",
    "\n",
    "    def forward(self, input, max_layer):\n",
    "        \n",
    "        input = sf.pad(input.float(), (2,2,2,2), 0)\n",
    "        \n",
    "        if self.training:\n",
    "            pot = self.conv1(input)\n",
    "            spk, pot = sf.fire(pot, self.conv1_t, True)\n",
    "            if max_layer == 1:\n",
    "                self.spk_cnt1 += 1\n",
    "                if self.spk_cnt1 >= 500:\n",
    "                    self.spk_cnt1 = 0\n",
    "                    ap = torch.tensor(self.stdp1.learning_rate[0][0].item(), device=self.stdp1.learning_rate[0][0].device) * 2\n",
    "                    ap = torch.min(ap, self.max_ap)\n",
    "                    an = ap * -0.75\n",
    "                    self.stdp1.update_all_learning_rate(ap.item(), an.item())\n",
    "                pot = sf.pointwise_inhibition(pot)\n",
    "                spk = pot.sign()\n",
    "                winners = sf.get_k_winners(pot, self.k1, self.r1, spk)\n",
    "                self.ctx[\"input_spikes\"] = input\n",
    "                self.ctx[\"potentials\"] = pot\n",
    "                self.ctx[\"output_spikes\"] = spk\n",
    "                self.ctx[\"winners\"] = winners\n",
    "                return spk, pot\n",
    "            \n",
    "            spk_in = sf.pad(sf.pooling(spk, 2, 2), (1,1,1,1))\n",
    "            pot = self.conv2(spk_in)\n",
    "            spk, pot = sf.fire(pot, self.conv2_t, True)\n",
    "            if max_layer == 2:\n",
    "                self.spk_cnt2 += 1\n",
    "                if self.spk_cnt2 >= 500:\n",
    "                    self.spk_cnt2 = 0\n",
    "                    ap = torch.tensor(self.stdp2.learning_rate[0][0].item(), device=self.stdp2.learning_rate[0][0].device) * 2\n",
    "                    ap = torch.min(ap, self.max_ap)\n",
    "                    an = ap * -0.75\n",
    "                    self.stdp2.update_all_learning_rate(ap.item(), an.item())\n",
    "                pot = sf.pointwise_inhibition(pot)\n",
    "                spk = pot.sign()\n",
    "                winners = sf.get_k_winners(pot, self.k2, self.r2, spk)\n",
    "                self.ctx[\"input_spikes\"] = spk_in\n",
    "                self.ctx[\"potentials\"] = pot\n",
    "                self.ctx[\"output_spikes\"] = spk\n",
    "                self.ctx[\"winners\"] = winners\n",
    "                return spk, pot\n",
    "            \n",
    "            spk_in = sf.pad(sf.pooling(spk, 3, 3), (2,2,2,2))\n",
    "            pot = self.conv3(spk_in)\n",
    "            spk = sf.fire(pot)\n",
    "            winners = sf.get_k_winners(pot, 1, 0, spk)  \n",
    "            self.ctx[\"input_spikes\"] = spk_in\n",
    "            self.ctx[\"potentials\"] = pot\n",
    "            self.ctx[\"output_spikes\"] = spk\n",
    "            self.ctx[\"winners\"] = winners\n",
    "            output = -1\n",
    "            if len(winners) != 0:\n",
    "                output = self.decision_map[winners[0][0]]\n",
    "            return output\n",
    "        \n",
    "        else:\n",
    "            pot = self.conv1(input)\n",
    "            spk, pot = sf.fire(pot, self.conv1_t, True)\n",
    "            if max_layer == 1:\n",
    "                return spk, pot\n",
    "            \n",
    "            pot = self.conv2(sf.pad(sf.pooling(spk, 2, 2), (1,1,1,1)))\n",
    "            spk, pot = sf.fire(pot, self.conv2_t, True)\n",
    "            if max_layer == 2:\n",
    "                return spk, pot\n",
    "            pot = self.conv3(sf.pad(sf.pooling(spk, 3, 3), (2,2,2,2)))\n",
    "            spk = sf.fire(pot)\n",
    "            \n",
    "            max_val, max_idx = get_k_winners(pot, 1, 0, spk)\n",
    "            # atavisms \n",
    "            winners = [max_idx]\n",
    "            output = -1\n",
    "            if len(winners) != 0:\n",
    "                output = self.decision_map[winners[0]]\n",
    "                \n",
    "            return max_val, max_idx\n",
    "\n",
    "    def stdp(self, layer_idx):\n",
    "        if layer_idx == 1:\n",
    "            self.stdp1(self.ctx[\"input_spikes\"], self.ctx[\"potentials\"], self.ctx[\"output_spikes\"], self.ctx[\"winners\"])\n",
    "        if layer_idx == 2:\n",
    "            self.stdp2(self.ctx[\"input_spikes\"], self.ctx[\"potentials\"], self.ctx[\"output_spikes\"], self.ctx[\"winners\"])\n",
    "\n",
    "    def update_learning_rates(self, stdp_ap, stdp_an, anti_stdp_ap, anti_stdp_an):\n",
    "        self.stdp3.update_all_learning_rate(stdp_ap, stdp_an)\n",
    "        self.anti_stdp3.update_all_learning_rate(anti_stdp_an, anti_stdp_ap)\n",
    "\n",
    "    def reward(self):\n",
    "        self.stdp3(self.ctx[\"input_spikes\"], self.ctx[\"potentials\"], self.ctx[\"output_spikes\"], self.ctx[\"winners\"])\n",
    "\n",
    "    def punish(self):\n",
    "        self.anti_stdp3(self.ctx[\"input_spikes\"], self.ctx[\"potentials\"], self.ctx[\"output_spikes\"], self.ctx[\"winners\"])\n"
   ]
  },
  {
   "cell_type": "code",
   "execution_count": 4,
   "metadata": {},
   "outputs": [],
   "source": [
    "# train and test\n",
    "\n",
    "def train_unsupervise(network, data, layer_idx):\n",
    "    network.train()\n",
    "    \n",
    "    for i in range(len(data)):\n",
    "        data_in = data[i]\n",
    "        if use_cuda:\n",
    "            data_in = data_in.cuda()\n",
    "        network(data_in, layer_idx)\n",
    "        network.stdp(layer_idx)\n",
    "\n",
    "def train_rl(network, data, target):\n",
    "    network.train()\n",
    "    perf = np.array([0,0,0]) # correct, wrong, silence\n",
    "    for i in range(len(data)):\n",
    "        data_in = data[i]\n",
    "        target_in = target[i]\n",
    "        if use_cuda:\n",
    "            data_in = data_in.cuda()\n",
    "            target_in = target_in.cuda()\n",
    "        d = network(data_in, 3)\n",
    "        if d != -1:\n",
    "            if d == target_in:\n",
    "                perf[0]+=1\n",
    "                network.reward()\n",
    "            else:\n",
    "                perf[1]+=1\n",
    "                network.punish()\n",
    "        else:\n",
    "            perf[2]+=1\n",
    "    return perf/len(data)\n",
    "\n",
    "def test(network, data, target):\n",
    "    network.eval()\n",
    "    perf = np.array([0,0,0]) # correct, wrong, silence\n",
    "    for i in range(len(data)):\n",
    "        data_in = data[i]\n",
    "        target_in = target[i]\n",
    "        if use_cuda:\n",
    "            data_in = data_in.cuda()\n",
    "            target_in = target_in.cuda()\n",
    "        d = network(data_in, 3)\n",
    "        if d != -1:\n",
    "            if d == target_in:\n",
    "                perf[0]+=1\n",
    "            else:\n",
    "                perf[1]+=1\n",
    "        else:\n",
    "            perf[2]+=1\n",
    "    return perf/len(data)"
   ]
  },
  {
   "cell_type": "code",
   "execution_count": 5,
   "metadata": {},
   "outputs": [],
   "source": [
    "def curve_graph(parametr_set):\n",
    "\n",
    "    plt.subplots(figsize=(15, 5))\n",
    "\n",
    "    plt.plot(parametr_set['epoch'], parametr_set['train']*100, color='cyan', label='train')\n",
    "    plt.plot(parametr_set['epoch'], parametr_set['test']*100, color='blue', marker = 'o', label='test')\n",
    "    plt.plot(parametr_set['epoch'], parametr_set['test_previous']*100, linestyle = ':', color='red', label='test of previous images')\n",
    "    plt.xlabel('epochs', loc='right', fontsize=17)\n",
    "    plt.ylabel('accuracy, %',  loc='top', fontsize=17)\n",
    "    plt.grid()\n",
    "    plt.legend()\n",
    "    plt.show()"
   ]
  },
  {
   "cell_type": "code",
   "execution_count": 6,
   "metadata": {},
   "outputs": [],
   "source": [
    "# for image transformation (see dataset)\n",
    "\n",
    "class S1C1Transform:\n",
    "    \n",
    "    def __init__(self, filter, PIL_type=False, timesteps = 15):\n",
    "        self.PIL_type = PIL_type\n",
    "        self.to_pil_image = transforms.ToPILImage()    \n",
    "        self.to_tensor = transforms.ToTensor()\n",
    "        self.filter = filter\n",
    "        self.temporal_transform = utils.Intensity2Latency(timesteps)\n",
    "        self.cnt = 0\n",
    "        \n",
    "    def __call__(self, image):\n",
    "        if self.cnt % 10000 == 0:\n",
    "            print(f'{self.cnt} images')\n",
    "        if self.PIL_type:\n",
    "            image = self.to_pil_image(image)\n",
    "        self.cnt+=1\n",
    "        image = self.to_tensor(image) * 255\n",
    "        image.unsqueeze_(0)\n",
    "        image = self.filter(image)\n",
    "        image = sf.local_normalization(image, 8)\n",
    "        temporal_image = self.temporal_transform(image)\n",
    "        return temporal_image.sign().byte()"
   ]
  },
  {
   "cell_type": "code",
   "execution_count": 7,
   "metadata": {},
   "outputs": [],
   "source": [
    "# for image transformation (see dataset)\n",
    "\n",
    "kernels = [ utils.DoGKernel(3,3/9,6/9),\n",
    "            utils.DoGKernel(3,6/9,3/9),\n",
    "            utils.DoGKernel(7,7/9,14/9),\n",
    "            utils.DoGKernel(7,14/9,7/9),\n",
    "            utils.DoGKernel(13,13/9,26/9),\n",
    "            utils.DoGKernel(13,26/9,13/9)]\n",
    "\n",
    "filter = utils.Filter(kernels, padding = 6, thresholds = 50)\n",
    "\n",
    "s1c1 = S1C1Transform(filter)\n",
    "s1c1_PIL = S1C1Transform(filter, PIL_type=True)"
   ]
  },
  {
   "cell_type": "code",
   "execution_count": 8,
   "metadata": {},
   "outputs": [],
   "source": [
    "# for image transformation (see dataset)\n",
    "\n",
    "class CustomTensorDataset(Dataset):\n",
    "    \n",
    "    def __init__(self, tensors, transform=None):\n",
    "        assert all(tensors[0].size(0) == tensor.size(0) for tensor in tensors)\n",
    "        self.tensors = tensors\n",
    "        self.transform = transform\n",
    "\n",
    "    def __getitem__(self, index):\n",
    "        x = self.tensors[0][index]\n",
    "\n",
    "        if self.transform:\n",
    "            x = self.transform(x)\n",
    "\n",
    "        y = self.tensors[1][index]\n",
    "\n",
    "        return x, y\n",
    "\n",
    "    def __len__(self):\n",
    "        return self.tensors[0].size(0)"
   ]
  },
  {
   "cell_type": "code",
   "execution_count": 9,
   "metadata": {},
   "outputs": [],
   "source": [
    "def forecast(network_1, network_2, data, target):\n",
    "    \n",
    "    prediction_val_1 = []\n",
    "    prediction_idx_1 = []\n",
    "    prediction_val_2 = []\n",
    "    prediction_idx_2 = []\n",
    "    target_result = [] \n",
    "    \n",
    "    network_1.eval()\n",
    "    network_2.eval()\n",
    "    \n",
    "    for i in range(len(data)):\n",
    "        \n",
    "        data_in = data[i]\n",
    "        target_in = target[i]\n",
    "        if use_cuda:\n",
    "            data_in = data_in.cuda()\n",
    "            target_in = target_in.cuda()\n",
    "        max_val_1, max_idx_1 = network_1(data_in, 3)\n",
    "        max_val_2, max_idx_2 = network_2(data_in, 3)\n",
    "            \n",
    "        prediction_val_1.append(max_val_1)\n",
    "        prediction_idx_1.append(max_idx_1)\n",
    "        prediction_val_2.append(max_val_2)\n",
    "        prediction_idx_2.append(max_idx_2)\n",
    "        target_result.append(target_in.item())\n",
    "        \n",
    "    return prediction_val_1, prediction_idx_1, prediction_val_2, prediction_idx_2, target_result"
   ]
  },
  {
   "cell_type": "markdown",
   "metadata": {},
   "source": [
    "## Sets"
   ]
  },
  {
   "cell_type": "markdown",
   "metadata": {},
   "source": [
    "### Set of capital letters\n",
    "24000 train images + 4000 test images"
   ]
  },
  {
   "cell_type": "code",
   "execution_count": 10,
   "metadata": {},
   "outputs": [
    {
     "data": {
      "text/plain": [
       "(torch.Size([24000]), torch.Size([4000]))"
      ]
     },
     "execution_count": 10,
     "metadata": {},
     "output_type": "execute_result"
    }
   ],
   "source": [
    "# set of 10 capital letters from EMNIST\n",
    "path = f'./data/EMNIST_own/capital_letters/'\n",
    "\n",
    "test_letter_labels = torch.load(f'{path}Mozafari_capital_letters_test_labels.pt', map_location=torch.device('cpu'))\n",
    "test_letters = torch.load(f'{path}Mozafari_capital_letters_test_images.pt', map_location=torch.device('cpu'))\n",
    "\n",
    "train_letter_labels = torch.load(f'{path}Mozafari_capital_letters_train_labels.pt', map_location=torch.device('cpu'))\n",
    "train_letters = torch.load(f'{path}Mozafari_capital_letters_train_images.pt', map_location=torch.device('cpu'))\n",
    "\n",
    "# Element permutation\n",
    "\n",
    "train_order_l = torch.randperm(train_letter_labels.shape[0])\n",
    "test_order_l = torch.randperm(test_letter_labels.shape[0])\n",
    "\n",
    "train_letter_labels = train_letter_labels[train_order_l].view(train_letter_labels.size())\n",
    "train_letters = train_letters[train_order_l].view(train_letters.size())\n",
    "\n",
    "test_letter_labels = test_letter_labels[test_order_l].view(test_letter_labels.size())\n",
    "test_letters = test_letters[test_order_l].view(test_letters.size())\n",
    "\n",
    "# Loaders\n",
    "\n",
    "train_letter_set = CustomTensorDataset(tensors=(train_letters, train_letter_labels), transform=s1c1_PIL)\n",
    "test_letter_set = CustomTensorDataset(tensors=(test_letters, test_letter_labels), transform=s1c1_PIL)\n",
    "\n",
    "train_letter_loader = DataLoader(train_letter_set, batch_size=len(train_letter_set))\n",
    "test_letter_loader = DataLoader(test_letter_set, batch_size=len(test_letter_set))\n",
    "\n",
    "train_letter_labels.size(), test_letter_labels.size()"
   ]
  },
  {
   "cell_type": "markdown",
   "metadata": {},
   "source": [
    "### Set of 10 MNIST digits\n",
    "Reduction 60000 train + 10000 test images to 24000 train + 4000 test images"
   ]
  },
  {
   "cell_type": "code",
   "execution_count": 11,
   "metadata": {},
   "outputs": [],
   "source": [
    "classes = [0, 1, 2, 3, 4, 5, 6, 7, 8, 9]"
   ]
  },
  {
   "cell_type": "code",
   "execution_count": 12,
   "metadata": {},
   "outputs": [
    {
     "data": {
      "text/plain": [
       "(torch.Size([24000]), torch.Size([4000]))"
      ]
     },
     "execution_count": 12,
     "metadata": {},
     "output_type": "execute_result"
    }
   ],
   "source": [
    "# the set of 10 digit images, the same size as the set of letters (2400 trains + 400 tests per class)\n",
    "\n",
    "# the MNIST data was pre-divided into 10 classes\n",
    "path = f'./data/MNIST_0_1_2_3_4_5_6_7_8_9/'\n",
    "\n",
    "for i in classes: \n",
    "    globals()[f'train_digit_{i}_images'] = torch.load(f'{path}train_images_{i}.pt', map_location=torch.device('cpu'))[0:2400]\n",
    "    globals()[f'train_digit_{i}_labels'] = torch.load(f'{path}train_labels_{i}.pt', map_location=torch.device('cpu'))[0:2400]\n",
    "    globals()[f'test_digit_{i}_images'] = torch.load(f'{path}test_images_{i}.pt', map_location=torch.device('cpu'))[0:400]\n",
    "    globals()[f'test_digit_{i}_labels'] = torch.load(f'{path}test_labels_{i}.pt', map_location=torch.device('cpu'))[0:400]\n",
    "\n",
    "train_MNIST_labels = globals()[f'train_digit_0_labels']\n",
    "train_MNIST_images = globals()[f'train_digit_0_images']\n",
    "test_MNIST_labels = globals()[f'test_digit_0_labels']\n",
    "test_MNIST_images = globals()[f'test_digit_0_images']                                 \n",
    "\n",
    "for i in range(1, 10):\n",
    "    train_MNIST_labels = torch.cat((train_MNIST_labels, globals()[f'train_digit_{i}_labels']), 0)\n",
    "    train_MNIST_images = torch.cat((train_MNIST_images, globals()[f'train_digit_{i}_images']), 0)\n",
    "\n",
    "    test_MNIST_labels = torch.cat((test_MNIST_labels, globals()[f'test_digit_{i}_labels']), 0)\n",
    "    test_MNIST_images = torch.cat((test_MNIST_images, globals()[f'test_digit_{i}_images']), 0)\n",
    "    \n",
    "# Element permutation\n",
    "\n",
    "train_order = torch.randperm(train_MNIST_labels.shape[0])\n",
    "test_order = torch.randperm(test_MNIST_labels.shape[0])\n",
    "\n",
    "train_MNIST_labels = train_MNIST_labels[train_order].view(train_MNIST_labels.size())\n",
    "train_MNIST_images = train_MNIST_images[train_order].view(train_MNIST_images.size())\n",
    "\n",
    "test_MNIST_labels = test_MNIST_labels[test_order].view(test_MNIST_labels.size())\n",
    "test_MNIST_images = test_MNIST_images[test_order].view(test_MNIST_images.size())\n",
    "\n",
    "# Loaders\n",
    "\n",
    "train_MNIST_set = CustomTensorDataset(tensors=(train_MNIST_images, train_MNIST_labels), transform=s1c1_PIL)\n",
    "test_MNIST_set = CustomTensorDataset(tensors=(test_MNIST_images, test_MNIST_labels), transform=s1c1_PIL)\n",
    "\n",
    "train_MNIST_loader = DataLoader(train_MNIST_set, batch_size=len(train_MNIST_set))\n",
    "test_MNIST_loader = DataLoader(test_MNIST_set, batch_size=len(test_MNIST_set))\n",
    "\n",
    "train_MNIST_labels.size(), test_MNIST_labels.size()"
   ]
  },
  {
   "cell_type": "markdown",
   "metadata": {},
   "source": [
    "### Combined set of digits + capital letters\n",
    "\n",
    "48000 train + 8000 test images"
   ]
  },
  {
   "cell_type": "code",
   "execution_count": 13,
   "metadata": {},
   "outputs": [
    {
     "data": {
      "text/plain": [
       "(torch.Size([48000]), torch.Size([8000]))"
      ]
     },
     "execution_count": 13,
     "metadata": {},
     "output_type": "execute_result"
    }
   ],
   "source": [
    "# letters + digits\n",
    "\n",
    "train_combi_labels = torch.cat((train_MNIST_labels, train_letter_labels), 0)\n",
    "train_combi_images = torch.cat((train_MNIST_images, train_letters), 0)\n",
    "\n",
    "test_combi_labels = torch.cat((test_MNIST_labels, test_letter_labels), 0)\n",
    "test_combi_images = torch.cat((test_MNIST_images, test_letters), 0)\n",
    "\n",
    "# Element permutation\n",
    "\n",
    "train_order_c = torch.randperm(train_combi_labels.shape[0])\n",
    "test_order_c = torch.randperm(test_combi_labels.shape[0])\n",
    "\n",
    "train_combi_labels = train_combi_labels[train_order_c].view(train_combi_labels.size())\n",
    "train_combi_images = train_combi_images[train_order_c].view(train_combi_images.size())\n",
    "\n",
    "test_combi_labels = test_combi_labels[test_order_c].view(test_combi_labels.size())\n",
    "test_combi_images = test_combi_images[test_order_c].view(test_combi_images.size())\n",
    "\n",
    "# Loaders\n",
    "\n",
    "train_combi_set = CustomTensorDataset(tensors=(train_combi_images, \\\n",
    "                                                train_combi_labels), transform=s1c1_PIL)\n",
    "test_combi_set = CustomTensorDataset(tensors=(test_combi_images, \\\n",
    "                                                test_combi_labels), transform=s1c1_PIL)\n",
    "\n",
    "train_combi_loader = DataLoader(train_combi_set, batch_size=len(train_combi_set))\n",
    "test_combi_loader = DataLoader(test_combi_set, batch_size=len(test_combi_set))\n",
    "\n",
    "train_combi_labels.size(), test_combi_labels.size()"
   ]
  },
  {
   "cell_type": "markdown",
   "metadata": {},
   "source": [
    "## Models activation"
   ]
  },
  {
   "cell_type": "code",
   "execution_count": 14,
   "metadata": {},
   "outputs": [],
   "source": [
    "model_digit = MozafariMNIST2018()\n",
    "model_letter = MozafariMNIST2018()"
   ]
  },
  {
   "cell_type": "code",
   "execution_count": 15,
   "metadata": {},
   "outputs": [
    {
     "name": "stdout",
     "output_type": "stream",
     "text": [
      "CUDA is available\n"
     ]
    }
   ],
   "source": [
    "use_cuda = True\n",
    "\n",
    "if torch.cuda.is_available():\n",
    "    print(\"CUDA is available\")\n",
    "    device = torch.device(\"cuda\")"
   ]
  },
  {
   "cell_type": "code",
   "execution_count": 16,
   "metadata": {},
   "outputs": [
    {
     "data": {
      "text/plain": [
       "MozafariMNIST2018(\n",
       "  (conv1): Convolution()\n",
       "  (conv2): Convolution()\n",
       "  (conv3): Convolution()\n",
       "  (stdp1): STDP(\n",
       "    (conv_layer): Convolution()\n",
       "  )\n",
       "  (stdp2): STDP(\n",
       "    (conv_layer): Convolution()\n",
       "  )\n",
       "  (stdp3): STDP(\n",
       "    (conv_layer): Convolution()\n",
       "  )\n",
       "  (anti_stdp3): STDP(\n",
       "    (conv_layer): Convolution()\n",
       "  )\n",
       ")"
      ]
     },
     "execution_count": 16,
     "metadata": {},
     "output_type": "execute_result"
    }
   ],
   "source": [
    "if use_cuda:\n",
    "    model_digit.cuda()   \n",
    "    model_letter.cuda()   \n",
    "\n",
    "model_digit.eval()\n",
    "model_letter.eval()"
   ]
  },
  {
   "cell_type": "markdown",
   "metadata": {},
   "source": [
    "## Testing on set of digits + letters"
   ]
  },
  {
   "cell_type": "markdown",
   "metadata": {},
   "source": [
    "### Installation SNNs trained on digits and on letters after digits"
   ]
  },
  {
   "cell_type": "code",
   "execution_count": 17,
   "metadata": {},
   "outputs": [
    {
     "data": {
      "text/plain": [
       "<All keys matched successfully>"
      ]
     },
     "execution_count": 17,
     "metadata": {},
     "output_type": "execute_result"
    }
   ],
   "source": [
    "# file \"saved_24000_digits_0.net\" is the result \n",
    "# of the file \"0_Initial_training_on_digits.ipynb\"\n",
    "model_digit.load_state_dict(torch.load(\"saved_24000_digits_0.net\"))\n",
    "\n",
    "# file \"saved_letters_after_digits_total_0.net\" is the result \n",
    "# of the file \"1_Training_on_letters_after_digits.ipynb\"\n",
    "model_letter.load_state_dict(torch.load(\"saved_letters_after_digits_total_0.net\"))"
   ]
  },
  {
   "cell_type": "markdown",
   "metadata": {},
   "source": [
    "### Character (digits + letters) recognition"
   ]
  },
  {
   "cell_type": "code",
   "execution_count": 18,
   "metadata": {},
   "outputs": [
    {
     "name": "stdout",
     "output_type": "stream",
     "text": [
      "0 images\n"
     ]
    }
   ],
   "source": [
    "for data, target in test_combi_loader:\n",
    "    \n",
    "    prediction_val_1, prediction_idx_1, prediction_val_2, prediction_idx_2, target = forecast(model_digit, model_letter, data.to(\"cuda\"), target.to(\"cuda\"))"
   ]
  },
  {
   "cell_type": "code",
   "execution_count": 19,
   "metadata": {},
   "outputs": [
    {
     "name": "stdout",
     "output_type": "stream",
     "text": [
      "Accuracy of ensemble = 85.7%\n"
     ]
    }
   ],
   "source": [
    "distribution_of_prediction_0 = pd.DataFrame(list(zip(np.arange(len(prediction_val_1)),\\\n",
    "                            prediction_val_1, prediction_idx_1, prediction_val_2, prediction_idx_2, target)),\\\n",
    "                            columns=['item', 'val_1', 'idx_1', 'val_2', 'idx_2', 'target'])\n",
    "\n",
    "distribution_of_prediction_0['forecast_1'] = distribution_of_prediction_0['idx_1']//20\n",
    "distribution_of_prediction_0['forecast_2'] = distribution_of_prediction_0['idx_2']//20\n",
    "\n",
    "distribution_of_prediction_0['forecast_total'] = 0\n",
    "\n",
    "for i in range(distribution_of_prediction_0.shape[0]):\n",
    "    if distribution_of_prediction_0['val_1'].loc[i] > distribution_of_prediction_0['val_2'].loc[i]:\n",
    "        distribution_of_prediction_0['forecast_total'].loc[i] = distribution_of_prediction_0['forecast_1'].loc[i]\n",
    "    else:\n",
    "        distribution_of_prediction_0['forecast_total'].loc[i] = distribution_of_prediction_0['forecast_2'].loc[i]\n",
    "        \n",
    "right_0 = 0\n",
    "wrong_0 = 0\n",
    "for i in range(distribution_of_prediction_0.shape[0]):\n",
    "    if distribution_of_prediction_0['forecast_total'].loc[i] == distribution_of_prediction_0['target'].loc[i]:\n",
    "        right_0 += 1\n",
    "    else:\n",
    "        wrong_0 += 1\n",
    "        \n",
    "print(f'Accuracy of ensemble = {right_0 / (right_0 + wrong_0)*100 :.1f}%')"
   ]
  },
  {
   "cell_type": "code",
   "execution_count": 20,
   "metadata": {},
   "outputs": [
    {
     "data": {
      "image/png": "[encoded data removed]",
      "text/plain": [
       "<Figure size 720x720 with 2 Axes>"
      ]
     },
     "metadata": {
      "needs_background": "light"
     },
     "output_type": "display_data"
    }
   ],
   "source": [
    "target_list_0 = distribution_of_prediction_0['target'].to_list()\n",
    "prediction_list_0 = distribution_of_prediction_0['forecast_total'].to_list()\n",
    "\n",
    "CM_0 = confusion_matrix(target_list_0, prediction_list_0)\n",
    "\n",
    "CM_normalized_0 = CM_0.astype('float') / CM_0.sum(axis=1)[:, np.newaxis]*100\n",
    "plt.subplots(figsize=(10, 10))\n",
    "sn.heatmap(CM_normalized_0, annot=True, linewidths=.5, cmap='coolwarm', fmt='.0f', square=True);\n",
    "plt.ylabel('True label');\n",
    "plt.xlabel('Predicted label');"
   ]
  },
  {
   "cell_type": "markdown",
   "metadata": {},
   "source": [
    "### Digit recognition"
   ]
  },
  {
   "cell_type": "code",
   "execution_count": 21,
   "metadata": {},
   "outputs": [
    {
     "name": "stdout",
     "output_type": "stream",
     "text": [
      "10000 images\n"
     ]
    }
   ],
   "source": [
    "for data, target in test_MNIST_loader:\n",
    "    \n",
    "    prediction_val_1, prediction_idx_1, prediction_val_2, prediction_idx_2, target = forecast(model_digit, model_letter, data.to(\"cuda\"), target.to(\"cuda\"))"
   ]
  },
  {
   "cell_type": "code",
   "execution_count": 22,
   "metadata": {},
   "outputs": [
    {
     "name": "stdout",
     "output_type": "stream",
     "text": [
      "Accuracy of digit recognition by ensemble = 91.9%\n"
     ]
    }
   ],
   "source": [
    "distribution_of_prediction_1 = pd.DataFrame(list(zip(np.arange(len(prediction_val_1)),\\\n",
    "                            prediction_val_1, prediction_idx_1, prediction_val_2, prediction_idx_2, target)),\\\n",
    "                            columns=['item', 'val_1', 'idx_1', 'val_2', 'idx_2', 'target'])\n",
    "\n",
    "distribution_of_prediction_1['forecast_1'] = distribution_of_prediction_1['idx_1']//20\n",
    "distribution_of_prediction_1['forecast_2'] = distribution_of_prediction_1['idx_2']//20\n",
    "\n",
    "distribution_of_prediction_1['forecast_total'] = 0\n",
    "\n",
    "for i in range(distribution_of_prediction_1.shape[0]):\n",
    "    if distribution_of_prediction_1['val_1'].loc[i] > distribution_of_prediction_1['val_2'].loc[i]:\n",
    "        distribution_of_prediction_1['forecast_total'].loc[i] = distribution_of_prediction_1['forecast_1'].loc[i]\n",
    "    else:\n",
    "        distribution_of_prediction_1['forecast_total'].loc[i] = distribution_of_prediction_1['forecast_2'].loc[i]\n",
    "        \n",
    "right_1 = 0\n",
    "wrong_1 = 0\n",
    "for i in range(distribution_of_prediction_1.shape[0]):\n",
    "    if distribution_of_prediction_1['forecast_total'].loc[i] == distribution_of_prediction_1['target'].loc[i]:\n",
    "        right_1 += 1\n",
    "    else:\n",
    "        wrong_1 += 1\n",
    "        \n",
    "print(f'Accuracy of digit recognition by ensemble = {right_1 / (right_1 + wrong_1)*100 :.1f}%')"
   ]
  },
  {
   "cell_type": "code",
   "execution_count": 23,
   "metadata": {},
   "outputs": [
    {
     "data": {
      "image/png": "[encoded data removed]",
      "text/plain": [
       "<Figure size 720x720 with 2 Axes>"
      ]
     },
     "metadata": {
      "needs_background": "light"
     },
     "output_type": "display_data"
    }
   ],
   "source": [
    "target_list_1 = distribution_of_prediction_1['target'].to_list()\n",
    "prediction_list_1 = distribution_of_prediction_1['forecast_total'].to_list()\n",
    "\n",
    "CM_1 = confusion_matrix(target_list_1, prediction_list_1)\n",
    "\n",
    "CM_normalized_1 = CM_1.astype('float') / CM_1.sum(axis=1)[:, np.newaxis]*100\n",
    "plt.subplots(figsize=(10, 10))\n",
    "sn.heatmap(CM_normalized_1, annot=True, linewidths=.5, cmap='coolwarm', fmt='.0f', square=True);\n",
    "plt.ylabel('True label');\n",
    "plt.xlabel('Predicted label');"
   ]
  },
  {
   "cell_type": "markdown",
   "metadata": {},
   "source": [
    "### Letter recognition"
   ]
  },
  {
   "cell_type": "code",
   "execution_count": 24,
   "metadata": {},
   "outputs": [],
   "source": [
    "for data, target in test_letter_loader:\n",
    "    \n",
    "    prediction_val_1, prediction_idx_1, prediction_val_2, prediction_idx_2, target = forecast(model_digit, model_letter, data.to(\"cuda\"), target.to(\"cuda\"))"
   ]
  },
  {
   "cell_type": "code",
   "execution_count": 25,
   "metadata": {},
   "outputs": [
    {
     "name": "stdout",
     "output_type": "stream",
     "text": [
      "Accuracy of letter recognition by ensemble = 79.6%\n"
     ]
    }
   ],
   "source": [
    "distribution_of_prediction_2 = pd.DataFrame(list(zip(np.arange(len(prediction_val_1)),\\\n",
    "                            prediction_val_1, prediction_idx_1, prediction_val_2, prediction_idx_2, target)),\\\n",
    "                            columns=['item', 'val_1', 'idx_1', 'val_2', 'idx_2', 'target'])\n",
    "\n",
    "distribution_of_prediction_2['forecast_1'] = distribution_of_prediction_2['idx_1']//20\n",
    "distribution_of_prediction_2['forecast_2'] = distribution_of_prediction_2['idx_2']//20\n",
    "\n",
    "distribution_of_prediction_2['forecast_total'] = 0\n",
    "\n",
    "for i in range(distribution_of_prediction_2.shape[0]):\n",
    "    if distribution_of_prediction_2['val_1'].loc[i] > distribution_of_prediction_2['val_2'].loc[i]:\n",
    "        distribution_of_prediction_2['forecast_total'].loc[i] = distribution_of_prediction_2['forecast_1'].loc[i]\n",
    "    else:\n",
    "        distribution_of_prediction_2['forecast_total'].loc[i] = distribution_of_prediction_2['forecast_2'].loc[i]\n",
    "        \n",
    "right_2 = 0\n",
    "wrong_2 = 0\n",
    "for i in range(distribution_of_prediction_2.shape[0]):\n",
    "    if distribution_of_prediction_2['forecast_total'].loc[i] == distribution_of_prediction_2['target'].loc[i]:\n",
    "        right_2 += 1\n",
    "    else:\n",
    "        wrong_2 += 1\n",
    "        \n",
    "print(f\"Accuracy of letter recognition by ensemble = {right_2 / (right_2 + wrong_2)*100 :.1f}%\")"
   ]
  },
  {
   "cell_type": "code",
   "execution_count": 26,
   "metadata": {},
   "outputs": [
    {
     "data": {
      "image/png": "[encoded data removed]",
      "text/plain": [
       "<Figure size 720x720 with 2 Axes>"
      ]
     },
     "metadata": {
      "needs_background": "light"
     },
     "output_type": "display_data"
    }
   ],
   "source": [
    "target_list_2 = distribution_of_prediction_2['target'].to_list()\n",
    "prediction_list_2 = distribution_of_prediction_2['forecast_total'].to_list()\n",
    "\n",
    "CM_2 = confusion_matrix(target_list_2, prediction_list_2)\n",
    "\n",
    "CM_normalized_2 = CM_2.astype('float') / CM_2.sum(axis=1)[:, np.newaxis]*100\n",
    "plt.subplots(figsize=(10, 10))\n",
    "sn.heatmap(CM_normalized_2, annot=True, linewidths=.5, cmap='coolwarm', fmt='.0f', square=True);\n",
    "plt.ylabel('True label');\n",
    "plt.xlabel('Predicted label');"
   ]
  }
 ],
 "metadata": {
  "kernelspec": {
   "display_name": "Python 3",
   "language": "python",
   "name": "python3"
  },
  "language_info": {
   "codemirror_mode": {
    "name": "ipython",
    "version": 3
   },
   "file_extension": ".py",
   "mimetype": "text/x-python",
   "name": "python",
   "nbconvert_exporter": "python",
   "pygments_lexer": "ipython3",
   "version": "3.8.8"
  }
 },
 "nbformat": 4,
 "nbformat_minor": 4
}
